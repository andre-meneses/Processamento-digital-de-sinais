{
 "cells": [
  {
   "cell_type": "markdown",
   "metadata": {
    "id": "CQynAI6b3_Aa"
   },
   "source": [
    "# Introdução ao python"
   ]
  },
  {
   "cell_type": "markdown",
   "metadata": {
    "id": "FK8Eg0io6l4r"
   },
   "source": [
    "A linguagem Python será adotada para a realização dos exercícios computacionais na disciplina *DCA0118 - PROCESSAMENTO DIGITAL DE SINAIS - T01*.\n",
    "\n",
    "Uma ótima maneira de começar a programar técnicas de computação científica em Python é através da instalação da distribuição [Anaconda](https://www.anaconda.com/products/distribution), a qual contém uma série de pacotes e ferramentas para a linguagem de programação Python.\n",
    "\n",
    "Uma boa alternativa para programar em Python, de forma online e colaborativa, é o [Google Colab](https://colab.research.google.com/?utm_source=scs-index). \n",
    "\n",
    "Há diversos cursos e tutoriais disponíveis para aprender mais sobre a linguagem de programação Python. Um bom curso de introdução ao Python encontra-se em https://ocw.mit.edu/courses/6-189-a-gentle-introduction-to-programming-using-python-january-iap-2011/."
   ]
  },
  {
   "cell_type": "markdown",
   "metadata": {
    "id": "6xwRpYp48N_c"
   },
   "source": [
    "# Exemplo 1 - Geração e visualização de uma senóide discreta"
   ]
  },
  {
   "cell_type": "markdown",
   "metadata": {
    "id": "tTnAbOKxBhGI"
   },
   "source": [
    "A primeira coisa que devemos fazer é importar/carregar as bibliotecas que utilizaremos em nosso código (script). Dentre as bibliotecas mais comuns da linguagem Python, destacam-se: [*Matplotlib*](https://matplotlib.org/2.0.2/index.html), [*NumPy*](https://numpy.org/) e [*SciPy*](https://docs.scipy.org/doc/scipy/reference/index.html)."
   ]
  },
  {
   "cell_type": "code",
   "execution_count": 1,
   "metadata": {
    "id": "_0JCPL0aBuHw"
   },
   "outputs": [],
   "source": [
    "import matplotlib.pyplot as plt #For plotting\n",
    "from math import sin, pi #For generating input signals\n",
    "import numpy as np"
   ]
  },
  {
   "cell_type": "markdown",
   "metadata": {
    "id": "50XhsReGBwmc"
   },
   "source": [
    "A seguir, definimos algumas características do sinal que criaremos (senóide discreta)."
   ]
  },
  {
   "cell_type": "code",
   "execution_count": 2,
   "metadata": {
    "id": "ucqf3sK7CCnt"
   },
   "outputs": [],
   "source": [
    "### Frequencia da funcao seno gerada\n",
    "f_c = 1000 #1KHz\n",
    "\n",
    "### Periodo de amostragem\n",
    "fs = 48000 # Freq de amostragem = 48KHz\n",
    "T = 1/fs\n",
    "\n",
    "### Numero de amostras em 1s\n",
    "ns = fs*1"
   ]
  },
  {
   "cell_type": "markdown",
   "metadata": {
    "id": "i00Qxrl1CIpv"
   },
   "source": [
    "Para criar a senóide discreta, utlizamos um *loop* computacional."
   ]
  },
  {
   "cell_type": "code",
   "execution_count": 3,
   "metadata": {
    "id": "jB7-PZLdCSX8"
   },
   "outputs": [],
   "source": [
    "### Inicializacao de arrays para coletar 1s de dados\n",
    "input  = [0]*ns\n",
    "t_axis = np.arange(0., ns)*T\n",
    "\n",
    "### Funcao seno amostrada ate 1s \n",
    "for i in range(ns):\n",
    "    input[i] = sin(2 * pi * f_c * i * T) "
   ]
  },
  {
   "cell_type": "markdown",
   "metadata": {
    "id": "spfAHMcsClEk"
   },
   "source": [
    "Vamos agora visualizar uma representação (aproximada) do que seria a senóide contínua."
   ]
  },
  {
   "cell_type": "code",
   "execution_count": null,
   "metadata": {
    "id": "EhfFBmSYDI8Z"
   },
   "outputs": [],
   "source": [
    "### Seleciona amostras do seno: #1/100 de 1s\n",
    "n_plot=100\n",
    "t_plot = t_axis[0:n_plot] \n",
    "input_section = input[0:n_plot] \n",
    "\n",
    "### Plot da funcao seno continua (funcao plot \"simula\" uma funcao continua)\n",
    "plt.figure(1)                \n",
    "plt.ylabel('sen($2\\pi f_c t$)')\n",
    "plt.xlabel('t [s]') \n",
    "plt.title('Senóide continua')      \n",
    "plt.plot(t_plot,input_section)"
   ]
  },
  {
   "cell_type": "markdown",
   "metadata": {
    "id": "Nj4Rm8VpDNV9"
   },
   "source": [
    "Esta senóide não é de fato contínua, pois ela está sendo representada em um computador de forma discreta. A função *plot* apenas cria uma linha contínua através da interpolação dos pontos da senóide discreta.\n",
    "\n",
    "Uma vizualização mais fiel da senóide discreta armazenda na memória do computador pode ser feita com o uso da função *stem*."
   ]
  },
  {
   "cell_type": "code",
   "execution_count": null,
   "metadata": {
    "id": "0V-Bh_C-D104"
   },
   "outputs": [],
   "source": [
    "### Seleciona amostras do seno\n",
    "n_plot=100\n",
    "t_plot = t_axis[0:n_plot] \n",
    "input_section = input[0:n_plot] \n",
    "\n",
    "### Plot da funcao seno amostrada com fs = 48KHz\n",
    "plt.figure(2)                \n",
    "plt.ylabel('sen($2\\pi f_c n T$)')\n",
    "plt.xlabel('n') \n",
    "plt.title('Senóide discreta')      \n",
    "plt.stem(input_section)"
   ]
  },
  {
   "cell_type": "markdown",
   "metadata": {
    "id": "f82AzRdU6bqt"
   },
   "source": [
    "# Processamento digital de sinais (PDS) em python"
   ]
  },
  {
   "cell_type": "markdown",
   "metadata": {
    "id": "pJP6lJ9O4NQT"
   },
   "source": [
    "O livro Think DSP trata de forma didática o processamento digital de sinais, usando exemplos de implementação em Python. O livro pode ser baixado ou visualizado online no site:\n",
    "\n",
    "https://greenteapress.com/wp/think-dsp/\n",
    "\n",
    "\n",
    "O livro Think DSP faz uso da biblioteca *SciPy*, que contém um conjunto de funções\n",
    "largamente utilizadas em PDS. Pode-se consultar as funções pertencentes a esta biblioteca em:\n",
    "\n",
    "https://docs.scipy.org/doc/scipy/reference/signal.html\n",
    "\n",
    "---\n",
    "\n",
    "Outras fontes de consulta para aplicações de PDS podem ser os cursos disponibilizados na plataforma Coursera, em:\n",
    "\n",
    "https://www.coursera.org/learn/dsp1#syllabus\n",
    "\n",
    "https://www.coursera.org/learn/dsp2#reviews\n"
   ]
  },
  {
   "cell_type": "markdown",
   "metadata": {
    "id": "8bXb06Rk5afi"
   },
   "source": [
    "# Banco de dados de sinais de áudio"
   ]
  },
  {
   "cell_type": "markdown",
   "metadata": {
    "id": "ObWVldV15hGK"
   },
   "source": [
    "Uma das aplicações mais clássicas de PDS é o processamento de sinais digitais de áudio. Para se testar algoritmos de PDS, é possível encontrar diversos arquivos de áudio em formato digital no site:\n",
    "\n",
    "https://freesound.org/browse/\n",
    "\n",
    "Para baixar algum destes sinais, deve-se criar um usuário no site, o que pode ser feito de forma bem simples."
   ]
  },
  {
   "cell_type": "markdown",
   "metadata": {
    "id": "ANtVpVeZ5vPj"
   },
   "source": [
    "# Introdução à análise do conteúdo de frequência de um sinal digital"
   ]
  },
  {
   "cell_type": "markdown",
   "metadata": {
    "id": "CFjGN59P52KB"
   },
   "source": [
    "Por enquanto ainda não estudamos a transformada discreta de Fourier (DFT, do inglês Discrete Fourier Transform) nem sua implementação com a transformada rápida de Fourier (FFT, do inglês Fast Fourier Transform).\n",
    "\n",
    "Neste sentido, vamos fazer a análise do conteúdo de frequências utilizando a estimação da densidade espectral de potência com o método de Welch. No momento, não é necessário saber como este método funciona, pois apenas iremos visualizar o espectro obtido com a função welch da biblioteca SciPy.\n",
    "\n",
    "Um exemplo de visualização de conteúdo espectral utilizando a função welch pode ser encontrado no script spectrum_welch.py, que faz uso do arquivo de audio\n",
    "**581010__xcreenplay__smoking-in-the-angel-section2.wav**, obtido em https://freesound.org/browse/.\n",
    "\n",
    "O script e o arquivo de áudio encontram-se em spectrum.zip."
   ]
  },
  {
   "cell_type": "markdown",
   "metadata": {
    "id": "KqDQkF_u63JJ"
   },
   "source": [
    "# Exemplo 2 - vizualização do conteúdo espectral de um arquivo de áudio"
   ]
  },
  {
   "cell_type": "code",
   "execution_count": 8,
   "metadata": {
    "id": "5yTWn-V0EUUt"
   },
   "outputs": [],
   "source": [
    "import numpy as np\n",
    "import matplotlib.pyplot as plt\n",
    "\n",
    "from scipy.io import wavfile\n",
    "from scipy.signal import welch\n",
    "from scipy import fftpack"
   ]
  },
  {
   "cell_type": "markdown",
   "metadata": {
    "id": "WQUYWKHGLfkS"
   },
   "source": [
    "Após importarmos as bibliotecas que serão utilizadas, carregamos o arquivo de áudio."
   ]
  },
  {
   "cell_type": "code",
   "execution_count": null,
   "metadata": {
    "id": "zt7ul5mrLprh"
   },
   "outputs": [],
   "source": [
    "#Carrega o arquivo\n",
    "samplerate, data = wavfile.read('/content/sample_data/581010__xcreenplay__smoking-in-the-angel-section2.wav')\n",
    "\n",
    "#Carrega o arquivo em dois canais (audio estereo)\n",
    "print(f\"numero de canais = {data.shape[1]}\")\n",
    "\n",
    "#Tempo total = numero de amostras / fs\n",
    "length = data.shape[0] / samplerate\n",
    "print(f\"duracao = {length}s\")"
   ]
  },
  {
   "cell_type": "markdown",
   "metadata": {
    "id": "uFGDXExRM_QX"
   },
   "source": [
    "A seguir, plotamos as figuras no domínio do tempo. (Note que estamos vizualizando as figuras com a função *plot*, que plota o sinal discreto com uma linha contínua interpolada.)"
   ]
  },
  {
   "cell_type": "code",
   "execution_count": null,
   "metadata": {
    "id": "X8zQX1F2NHwh"
   },
   "outputs": [],
   "source": [
    "#Plota as figuras ao longo do tempo\n",
    "\n",
    "#Interpola para determinar eixo do tempo\n",
    "time = np.linspace(0., length, data.shape[0])\n",
    "\n",
    "#Plota os canais esquerdo e direito\n",
    "plt.figure(1)\n",
    "plt.plot(time, data[:, 0], label=\"Canal esquerdo\")\n",
    "plt.legend()\n",
    "plt.xlabel(\"Tempo [s]\")\n",
    "plt.ylabel(\"Amplitude\")\n",
    "plt.show()\n",
    "\n",
    "plt.figure(2)\n",
    "plt.plot(time, data[:, 1], label=\"Canal direito\")\n",
    "plt.legend()\n",
    "plt.xlabel(\"Tempo [s]\")\n",
    "plt.ylabel(\"Amplitude\")\n",
    "plt.show()"
   ]
  },
  {
   "cell_type": "markdown",
   "metadata": {
    "id": "jnc7YOeFNet_"
   },
   "source": [
    "Para plotar o conteúdo espectral, utilizaremos a função [*welch*](https://docs.scipy.org/doc/scipy/reference/generated/scipy.signal.welch.html)."
   ]
  },
  {
   "cell_type": "code",
   "execution_count": 19,
   "metadata": {
    "id": "_zOhdOm-NnsB"
   },
   "outputs": [],
   "source": [
    "#Estima o espectro do sinal utilizando a funcao welch\n",
    "x  = data[:, 0] # canal esquerdo\n",
    "fs = 2*np.pi\n",
    "#fs = samplerate\n",
    "f, Pxx_spec = welch(x, fs, 'flattop', 512, scaling='spectrum')"
   ]
  },
  {
   "cell_type": "markdown",
   "metadata": {
    "id": "kZIoXz9dOY3J"
   },
   "source": [
    "A seguir, podemos vizualizar o conteúdo espectral do sinal no intervalo $0$ e $\\pi$."
   ]
  },
  {
   "cell_type": "code",
   "execution_count": null,
   "metadata": {
    "id": "RCIaHeUXO4yS"
   },
   "outputs": [],
   "source": [
    "#Plota o espectro do sinal para frequencias normalizadas entre 0 1 pi \n",
    "#(frequencias positivas)\n",
    "\n",
    "plt.figure(3)\n",
    "plt.semilogy(f, Pxx_spec)\n",
    "plt.xlabel('frequencia [rad]')\n",
    "plt.ylabel('Espectro')\n",
    "plt.show()"
   ]
  },
  {
   "cell_type": "markdown",
   "metadata": {
    "id": "RELTQX_L9Gj1"
   },
   "source": [
    "# Exercícios"
   ]
  },
  {
   "cell_type": "markdown",
   "metadata": {
    "id": "Lpmo_fpuG-YJ"
   },
   "source": [
    "**Exercício 1**\n",
    "\n",
    "Seja um sistema linear invariante no tempo, com resposta ao impulso\n",
    "\\begin{equation*}\n",
    "    h[n] = a^n \\left( u[n] - u[n-5]\\right),\n",
    "\\end{equation*}\n",
    "para $a=0,7$.\n",
    "\n",
    "Implemente a convolução $y[n] = h[n]*r_N[n]$, em *Python* ou outra linguagem de computação científica qualquer, entre $h[n]$ e a sequência\n",
    "\\begin{equation*}\n",
    "    r_N[n] = u[n] -u[n-N] = \\left\\{ \\begin{array}{cl}\n",
    "        1, \\, & 0 \\leq n\\leq 9 \\\\ \n",
    "        0, & \\text{caso contrário}.\n",
    "    \\end{array} \\right.\n",
    "\\end{equation*}\n",
    "\n",
    "Utilize laços do tipo *for* para implementar a convolução. Forneça os gráficos para as sequências $h[n]$, $r_N[n]$ e $y[n]$. Utilize barras verticais para gerar os gráficos das sequências discretas, fazendo uso de funções semelhantes à função *matplotlib.pyplot.stem*, encontrada na biblioteca *matplotlib*, da linguagem *Python*."
   ]
  },
  {
   "cell_type": "markdown",
   "metadata": {
    "id": "uOCpkcnvG-rC"
   },
   "source": [
    "**Exercício 2**\n",
    "\n",
    "Utilizando como exemplo o arquivo *plot\\_sen.py*, plote os gráficos, contínuo e discreto, de um cosseno de frequência $f_c = 500$ Hz, amostrado a uma frequência de $20$ KHz. Escalone o eixo de tempo contínuo de forma adequada."
   ]
  },
  {
   "cell_type": "markdown",
   "metadata": {
    "id": "rTXm_bEjG-5w"
   },
   "source": [
    "**Exercício 3**\n",
    "\n",
    "Faça o *download* de um arquivo de áudio em https://freesound.org/browse. Utilizando a linguagem *Python* e a função *welch*, plote o conteúdo espectral do arquivo baixado"
   ]
  }
 ],
 "metadata": {
  "colab": {
   "collapsed_sections": [],
   "name": "Topico_1_e_2.ipynb",
   "provenance": [],
   "toc_visible": true
  },
  "kernelspec": {
   "display_name": "Python 3 (ipykernel)",
   "language": "python",
   "name": "python3"
  },
  "language_info": {
   "codemirror_mode": {
    "name": "ipython",
    "version": 3
   },
   "file_extension": ".py",
   "mimetype": "text/x-python",
   "name": "python",
   "nbconvert_exporter": "python",
   "pygments_lexer": "ipython3",
   "version": "3.8.10"
  }
 },
 "nbformat": 4,
 "nbformat_minor": 1
}
